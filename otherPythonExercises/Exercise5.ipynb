{
 "cells": [
  {
   "cell_type": "markdown",
   "metadata": {},
   "source": [
    "Take two lists and write a program that returns a list that contains only the elements that are common between the lists (without duplicates). Make sure your program works on two lists of different sizes."
   ]
  },
  {
   "cell_type": "code",
   "execution_count": 17,
   "metadata": {},
   "outputs": [
    {
     "name": "stdout",
     "output_type": "stream",
     "text": [
      "4\n",
      "5\n",
      "[88, 8, 99, 84, 68, 38, 46, 15, 43, 83, 8, 20, 44, 45, 86, 2, 39, 38, 68, 64, 90, 39, 73, 40, 65, 19, 80, 93, 18, 2, 38, 29, 58, 36, 74, 83, 91, 40, 4, 63, 44, 52, 81, 56, 79, 46, 54, 26, 99, 3, 96, 19, 64, 2, 47, 65, 11, 88, 76, 4, 3, 70, 40, 59, 25, 53, 94, 17, 38, 38, 28, 82, 75, 67, 26, 48, 18, 7, 5, 11, 20, 18, 52, 1, 17, 17, 55, 81, 27, 87, 6, 58, 26, 36, 28, 82, 67, 61, 63, 101, 95, 6, 4, 3, 64, 56, 29, 4, 79, 12, 59, 79, 8, 44, 20, 50, 48, 67, 58, 94]\n",
      "[35, 90, 34, 58, 35, 46, 94, 68, 65, 76, 62, 62, 65, 20, 56, 75, 54, 59, 90, 42, 24, 55, 18, 22, 80, 76, 80, 36, 8, 98, 9, 56, 66, 52, 22, 49, 67, 88, 53, 57, 74, 94, 46, 31, 31, 33, 50, 90, 21, 45, 58, 71, 87, 1, 21, 95, 59, 24, 95, 13, 73, 32, 84, 94, 29, 31, 12, 14, 40, 11, 27, 42, 15, 6, 36, 15, 7, 100, 18, 45, 92, 10, 97, 47, 26, 50, 7, 6, 83, 21, 24, 81, 34, 12, 52, 71, 62, 83, 60, 52, 41, 101, 9, 69, 25, 78, 5, 98, 44, 12]\n",
      "List of common elements is:[88, 8, 84, 68, 46, 15, 83, 8, 20, 44, 45, 68, 90, 73, 40, 65, 80, 18, 29, 58, 36, 74, 83, 40, 44, 52, 81, 56, 46, 54, 26, 47, 65, 11, 88, 76, 40, 59, 25, 53, 94, 75, 67, 26, 18, 7, 5, 11, 20, 18, 52, 1, 55, 81, 27, 87, 6, 58, 26, 36, 67, 101, 95, 6, 56, 29, 12, 59, 8, 44, 20, 50, 67, 58, 94]\n"
     ]
    }
   ],
   "source": [
    "import random\n",
    "len1 = random.randint(1,5)\n",
    "len2 = random.randint(1,5)\n",
    "\n",
    "print(len1)\n",
    "print(len2)\n",
    "for x in range(0, len1):\n",
    "  list1.append(random.randint(1,101))\n",
    "\n",
    "for x in range(0, len2):\n",
    "  list2.append(random.randint(1,101))\n",
    "\n",
    "print(list1)\n",
    "print(list2)\n",
    "\n",
    "print('List of common elements is:{}'.format([x for x in list1 if x in list2]))"
   ]
  },
  {
   "cell_type": "code",
   "execution_count": null,
   "metadata": {},
   "outputs": [],
   "source": []
  },
  {
   "cell_type": "code",
   "execution_count": null,
   "metadata": {},
   "outputs": [],
   "source": []
  }
 ],
 "metadata": {
  "kernelspec": {
   "display_name": "Python 3",
   "language": "python",
   "name": "python3"
  },
  "language_info": {
   "codemirror_mode": {
    "name": "ipython",
    "version": 3
   },
   "file_extension": ".py",
   "mimetype": "text/x-python",
   "name": "python",
   "nbconvert_exporter": "python",
   "pygments_lexer": "ipython3",
   "version": "3.7.3"
  }
 },
 "nbformat": 4,
 "nbformat_minor": 2
}
