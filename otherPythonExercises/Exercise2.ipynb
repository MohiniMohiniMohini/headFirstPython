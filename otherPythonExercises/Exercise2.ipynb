{
 "cells": [
  {
   "cell_type": "markdown",
   "metadata": {},
   "source": [
    "Ask the user for a number. Depending on whether the number is even or odd, print out an appropriate message to the user. Hint: how does an even / odd number react differently when divided by 2?\n",
    "\n",
    "Extras:\n",
    "\n",
    "If the number is a multiple of 4, print out a different message.\n",
    "Ask the user for two numbers: one number to check (call it num) and one number to divide by (check). If check divides evenly into num, tell that to the user. If not, print a different appropriate message."
   ]
  },
  {
   "cell_type": "code",
   "execution_count": 6,
   "metadata": {},
   "outputs": [
    {
     "name": "stdout",
     "output_type": "stream",
     "text": [
      "Enter an integer:6\n",
      "The number 6 is even\n",
      "Now enter 2 numbers onr by one:4\n",
      "2nd number is:2\n",
      "4 is divisible by 2\n"
     ]
    }
   ],
   "source": [
    "num = int(input('Enter an integer:'))\n",
    "if((num % 4) == 0):\n",
    "    print('The number {} is even and divisible by 4'.format(num))\n",
    "elif((num % 2) == 0):\n",
    "        print('The number {} is even'.format(num))\n",
    "else:\n",
    "    print('The number {} is odd'.format(num))\n",
    "    \n",
    "num1 = int(input('Now enter 2 numbers onr by one:'))\n",
    "num2 = int(input('2nd number is:'))\n",
    "\n",
    "if((num1%num2) == 0):\n",
    "    print('{} is divisible by {}'.format(num1, num2))\n",
    "else:\n",
    "    print('{} is not divisible by {}'.format(num1, num2))\n",
    "    "
   ]
  },
  {
   "cell_type": "code",
   "execution_count": null,
   "metadata": {},
   "outputs": [],
   "source": []
  }
 ],
 "metadata": {
  "kernelspec": {
   "display_name": "Python 3",
   "language": "python",
   "name": "python3"
  },
  "language_info": {
   "codemirror_mode": {
    "name": "ipython",
    "version": 3
   },
   "file_extension": ".py",
   "mimetype": "text/x-python",
   "name": "python",
   "nbconvert_exporter": "python",
   "pygments_lexer": "ipython3",
   "version": "3.7.3"
  }
 },
 "nbformat": 4,
 "nbformat_minor": 2
}
