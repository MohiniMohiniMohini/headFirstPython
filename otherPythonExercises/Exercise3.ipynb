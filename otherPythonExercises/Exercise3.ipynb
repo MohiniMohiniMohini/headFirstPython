{
 "cells": [
  {
   "cell_type": "markdown",
   "metadata": {},
   "source": [
    "Ask the user for a number and return a list that contains only elements from the original list that are smaller than that number given by the user."
   ]
  },
  {
   "cell_type": "code",
   "execution_count": 9,
   "metadata": {},
   "outputs": [
    {
     "name": "stdout",
     "output_type": "stream",
     "text": [
      "Input the length of list:8\n",
      "Enter element number 1 of the list: 1\n",
      "Enter element number 2 of the list: 2\n",
      "Enter element number 3 of the list: 3\n",
      "Enter element number 4 of the list: 4\n",
      "Enter element number 5 of the list: 5\n",
      "Enter element number 6 of the list: 6\n",
      "Enter element number 7 of the list: 7\n",
      "Enter element number 8 of the list: 8\n",
      "[1, 2, 3, 4, 5, 6, 7, 8]\n",
      "Now enter a threshold number. All the elements less than threshold will be saved in another list 7\n",
      "[None, None, None, None, None, None]\n",
      "[1, 2, 3, 4, 5, 6]\n"
     ]
    }
   ],
   "source": [
    "length = int(input('Input the length of list:'))\n",
    "oList=[]\n",
    "for i in range(0,length):\n",
    "    oList.append(int(input('Enter element number {} of the list: '.format(i+1))))\n",
    "print(oList)\n",
    "\n",
    "lessThan=int(input('Now enter a threshold number. All the elements less than threshold will be saved in another list '))\n",
    "\n",
    "newList=[]\n",
    "print([newList.append(element) for element in oList if element < lessThan])\n",
    "#     if(element < lessThan):\n",
    "#         newList.append(element)\n",
    "        \n",
    "print(newList)"
   ]
  },
  {
   "cell_type": "code",
   "execution_count": null,
   "metadata": {},
   "outputs": [],
   "source": []
  }
 ],
 "metadata": {
  "kernelspec": {
   "display_name": "Python 3",
   "language": "python",
   "name": "python3"
  },
  "language_info": {
   "codemirror_mode": {
    "name": "ipython",
    "version": 3
   },
   "file_extension": ".py",
   "mimetype": "text/x-python",
   "name": "python",
   "nbconvert_exporter": "python",
   "pygments_lexer": "ipython3",
   "version": "3.7.3"
  }
 },
 "nbformat": 4,
 "nbformat_minor": 2
}
